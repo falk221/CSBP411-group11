# Importing libraries
import cv2
import numpy as np
from google.colab.patches import cv2_imshow

# Loading the reference logo
ref_path = "/content/CSBP441 - logo.png"
ref = cv2.imread(ref_path)

H, W = ref.shape[:2]

# Converting the image to HSV and extracting the blue regions
hsv = cv2.cvtColor(ref, cv2.COLOR_BGR2HSV)
lower_blue = np.array([100, 70, 70], np.uint8)
upper_blue = np.array([135, 255, 255], np.uint8)
mask = cv2.inRange(hsv, lower_blue, upper_blue)

# Refining the mask using morphological operations
kernel = cv2.getStructuringElement(cv2.MORPH_ELLIPSE, (3, 3))
mask = cv2.morphologyEx(mask, cv2.MORPH_OPEN, kernel, iterations=1)
mask = cv2.morphologyEx(mask, cv2.MORPH_CLOSE, kernel, iterations=2)

# Detecting contours with hierarchy to preserve inner voids
contours, hierarchy = cv2.findContours(mask, cv2.RETR_TREE, cv2.CHAIN_APPROX_SIMPLE)
if hierarchy is None:
    raise RuntimeError("No contours are detected. Adjust HSV thresholds if necessary.")
hier = hierarchy[0]

# Deriving the representative blue color from the source image
mean_bgr = ref[mask > 0].mean(axis=0).astype(np.uint8)
BLUE_BGR = tuple(int(v) for v in mean_bgr)

# Approximating contours to obtain smooth polygonal boundaries
polys = []
for c in contours:
    eps = 0.0015 * cv2.arcLength(c, True)
    polys.append(cv2.approxPolyDP(c, eps, True))

# Creating a clean white canvas
canvas = np.full((H, W, 3), 255, np.uint8)

# Drawing the outer shapes in blue
for i, p in enumerate(polys):
    if hier[i][3] == -1:
        cv2.drawContours(canvas, polys, i, BLUE_BGR, thickness=cv2.FILLED, lineType=cv2.LINE_AA)

# Drawing the inner holes in white
for i, p in enumerate(polys):
    if hier[i][3] != -1:
        cv2.drawContours(canvas, polys, i, (255, 255, 255), thickness=cv2.FILLED, lineType=cv2.LINE_AA)

# Outlining the shapes for visual clarity
for p in polys:
    cv2.polylines(canvas, [p], True, BLUE_BGR, 1, lineType=cv2.LINE_AA)

# Saving and displaying the results
cv2.imwrite("/content/logo_recreated.png", canvas)
cv2.imwrite("/content/logo_ref_vs_ours.png", np.hstack([ref, canvas]))
cv2_imshow(cv2.hconcat([ref, canvas]))
